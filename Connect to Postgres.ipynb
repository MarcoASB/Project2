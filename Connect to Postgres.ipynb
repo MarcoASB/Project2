{
 "cells": [
  {
   "cell_type": "code",
   "execution_count": 64,
   "metadata": {},
   "outputs": [],
   "source": [
    "import pandas as pd\n",
    "from sqlalchemy import create_engine"
   ]
  },
  {
   "cell_type": "code",
   "execution_count": 77,
   "metadata": {},
   "outputs": [
    {
     "data": {
      "text/html": [
       "<div>\n",
       "<style scoped>\n",
       "    .dataframe tbody tr th:only-of-type {\n",
       "        vertical-align: middle;\n",
       "    }\n",
       "\n",
       "    .dataframe tbody tr th {\n",
       "        vertical-align: top;\n",
       "    }\n",
       "\n",
       "    .dataframe thead th {\n",
       "        text-align: right;\n",
       "    }\n",
       "</style>\n",
       "<table border=\"1\" class=\"dataframe\">\n",
       "  <thead>\n",
       "    <tr style=\"text-align: right;\">\n",
       "      <th></th>\n",
       "      <th>folio</th>\n",
       "      <th>id_tipo</th>\n",
       "      <th>estatus</th>\n",
       "      <th>id_tienda</th>\n",
       "      <th>nombre_tienda</th>\n",
       "      <th>region</th>\n",
       "      <th>estado</th>\n",
       "      <th>ciudad</th>\n",
       "      <th>fin_de_cap</th>\n",
       "      <th>fecha_entr</th>\n",
       "      <th>hora_entr</th>\n",
       "      <th>dia_sem</th>\n",
       "      <th>mes</th>\n",
       "      <th>venta_neta</th>\n",
       "      <th>cp</th>\n",
       "      <th>latitude</th>\n",
       "      <th>longitude</th>\n",
       "      <th>con_serv</th>\n",
       "    </tr>\n",
       "  </thead>\n",
       "  <tbody>\n",
       "    <tr>\n",
       "      <th>0</th>\n",
       "      <td>2458404</td>\n",
       "      <td>Pickup</td>\n",
       "      <td>Entregado</td>\n",
       "      <td>2735</td>\n",
       "      <td>LA CRUZ</td>\n",
       "      <td>Sureste</td>\n",
       "      <td>Quintana Roo</td>\n",
       "      <td>Playa del Carmen</td>\n",
       "      <td>29/07/2019 04:23</td>\n",
       "      <td>01/08/2019</td>\n",
       "      <td>8</td>\n",
       "      <td>Thu</td>\n",
       "      <td>8</td>\n",
       "      <td>3721.250000</td>\n",
       "      <td>0</td>\n",
       "      <td>20.654042</td>\n",
       "      <td>-87.081312</td>\n",
       "      <td>Sí</td>\n",
       "    </tr>\n",
       "    <tr>\n",
       "      <th>1</th>\n",
       "      <td>2469030</td>\n",
       "      <td>Pickup</td>\n",
       "      <td>Entregado</td>\n",
       "      <td>2735</td>\n",
       "      <td>LA CRUZ</td>\n",
       "      <td>Sureste</td>\n",
       "      <td>Quintana Roo</td>\n",
       "      <td>Playa del Carmen</td>\n",
       "      <td>31/07/2019 13:51</td>\n",
       "      <td>01/08/2019</td>\n",
       "      <td>8</td>\n",
       "      <td>Thu</td>\n",
       "      <td>8</td>\n",
       "      <td>2249.250000</td>\n",
       "      <td>0</td>\n",
       "      <td>20.654042</td>\n",
       "      <td>-87.081312</td>\n",
       "      <td>Sí</td>\n",
       "    </tr>\n",
       "    <tr>\n",
       "      <th>2</th>\n",
       "      <td>2469818</td>\n",
       "      <td>Pickup</td>\n",
       "      <td>Entregado</td>\n",
       "      <td>2735</td>\n",
       "      <td>LA CRUZ</td>\n",
       "      <td>Sureste</td>\n",
       "      <td>Quintana Roo</td>\n",
       "      <td>Playa del Carmen</td>\n",
       "      <td>31/07/2019 14:04</td>\n",
       "      <td>01/08/2019</td>\n",
       "      <td>8</td>\n",
       "      <td>Thu</td>\n",
       "      <td>8</td>\n",
       "      <td>2717.066667</td>\n",
       "      <td>0</td>\n",
       "      <td>20.654042</td>\n",
       "      <td>-87.081312</td>\n",
       "      <td>Sí</td>\n",
       "    </tr>\n",
       "    <tr>\n",
       "      <th>3</th>\n",
       "      <td>2470750</td>\n",
       "      <td>Pickup</td>\n",
       "      <td>Entregado</td>\n",
       "      <td>2735</td>\n",
       "      <td>LA CRUZ</td>\n",
       "      <td>Sureste</td>\n",
       "      <td>Quintana Roo</td>\n",
       "      <td>Playa del Carmen</td>\n",
       "      <td>31/07/2019 14:15</td>\n",
       "      <td>01/08/2019</td>\n",
       "      <td>8</td>\n",
       "      <td>Thu</td>\n",
       "      <td>8</td>\n",
       "      <td>2436.150000</td>\n",
       "      <td>0</td>\n",
       "      <td>20.654042</td>\n",
       "      <td>-87.081312</td>\n",
       "      <td>Sí</td>\n",
       "    </tr>\n",
       "    <tr>\n",
       "      <th>4</th>\n",
       "      <td>2569049</td>\n",
       "      <td>Pickup</td>\n",
       "      <td>Entregado</td>\n",
       "      <td>2735</td>\n",
       "      <td>LA CRUZ</td>\n",
       "      <td>Sureste</td>\n",
       "      <td>Quintana Roo</td>\n",
       "      <td>Playa del Carmen</td>\n",
       "      <td>31/07/2019 14:11</td>\n",
       "      <td>01/08/2019</td>\n",
       "      <td>9</td>\n",
       "      <td>Thu</td>\n",
       "      <td>8</td>\n",
       "      <td>1569.133333</td>\n",
       "      <td>0</td>\n",
       "      <td>20.654042</td>\n",
       "      <td>-87.081312</td>\n",
       "      <td>Sí</td>\n",
       "    </tr>\n",
       "  </tbody>\n",
       "</table>\n",
       "</div>"
      ],
      "text/plain": [
       "     folio id_tipo    estatus  id_tienda nombre_tienda   region        estado  \\\n",
       "0  2458404  Pickup  Entregado       2735       LA CRUZ  Sureste  Quintana Roo   \n",
       "1  2469030  Pickup  Entregado       2735       LA CRUZ  Sureste  Quintana Roo   \n",
       "2  2469818  Pickup  Entregado       2735       LA CRUZ  Sureste  Quintana Roo   \n",
       "3  2470750  Pickup  Entregado       2735       LA CRUZ  Sureste  Quintana Roo   \n",
       "4  2569049  Pickup  Entregado       2735       LA CRUZ  Sureste  Quintana Roo   \n",
       "\n",
       "             ciudad        fin_de_cap  fecha_entr  hora_entr dia_sem  mes  \\\n",
       "0  Playa del Carmen  29/07/2019 04:23  01/08/2019          8     Thu    8   \n",
       "1  Playa del Carmen  31/07/2019 13:51  01/08/2019          8     Thu    8   \n",
       "2  Playa del Carmen  31/07/2019 14:04  01/08/2019          8     Thu    8   \n",
       "3  Playa del Carmen  31/07/2019 14:15  01/08/2019          8     Thu    8   \n",
       "4  Playa del Carmen  31/07/2019 14:11  01/08/2019          9     Thu    8   \n",
       "\n",
       "    venta_neta  cp   latitude  longitude con_serv  \n",
       "0  3721.250000   0  20.654042 -87.081312       Sí  \n",
       "1  2249.250000   0  20.654042 -87.081312       Sí  \n",
       "2  2717.066667   0  20.654042 -87.081312       Sí  \n",
       "3  2436.150000   0  20.654042 -87.081312       Sí  \n",
       "4  1569.133333   0  20.654042 -87.081312       Sí  "
      ]
     },
     "execution_count": 77,
     "metadata": {},
     "output_type": "execute_result"
    }
   ],
   "source": [
    "csv_file1 = \"OrdersF.csv\"\n",
    "df1 = pd.read_csv(csv_file1)\n",
    "df1 = df1.loc[:, ['folio','id_tipo', 'estatus','id_tienda','nombre_tienda', 'region', 'estado', 'ciudad', 'fin_de_cap', 'fecha_entr', 'hora_entr' ,'dia_sem', 'mes', 'venta_neta', 'cp','latitude', 'longitude', 'con_serv']]\n",
    "df1.head()"
   ]
  },
  {
   "cell_type": "code",
   "execution_count": 78,
   "metadata": {},
   "outputs": [
    {
     "data": {
      "text/html": [
       "<div>\n",
       "<style scoped>\n",
       "    .dataframe tbody tr th:only-of-type {\n",
       "        vertical-align: middle;\n",
       "    }\n",
       "\n",
       "    .dataframe tbody tr th {\n",
       "        vertical-align: top;\n",
       "    }\n",
       "\n",
       "    .dataframe thead th {\n",
       "        text-align: right;\n",
       "    }\n",
       "</style>\n",
       "<table border=\"1\" class=\"dataframe\">\n",
       "  <thead>\n",
       "    <tr style=\"text-align: right;\">\n",
       "      <th></th>\n",
       "      <th>id_tienda</th>\n",
       "      <th>nombre_tienda</th>\n",
       "      <th>region</th>\n",
       "      <th>estado</th>\n",
       "      <th>ciudad</th>\n",
       "      <th>municipio</th>\n",
       "      <th>proto</th>\n",
       "      <th>long</th>\n",
       "      <th>lat</th>\n",
       "      <th>con_serv</th>\n",
       "    </tr>\n",
       "  </thead>\n",
       "  <tbody>\n",
       "    <tr>\n",
       "      <th>0</th>\n",
       "      <td>4156</td>\n",
       "      <td>Cola De Ballena</td>\n",
       "      <td>Noroeste</td>\n",
       "      <td>Baja California Sur</td>\n",
       "      <td>La Paz</td>\n",
       "      <td>La Paz</td>\n",
       "      <td>SPCT-112</td>\n",
       "      <td>-110.343084</td>\n",
       "      <td>24.118732</td>\n",
       "      <td>Sí</td>\n",
       "    </tr>\n",
       "    <tr>\n",
       "      <th>1</th>\n",
       "      <td>1724</td>\n",
       "      <td>Los Reyes Pza Zumpango</td>\n",
       "      <td>Centro</td>\n",
       "      <td>Mexico</td>\n",
       "      <td>ZM del Valle de México</td>\n",
       "      <td>Zumpango</td>\n",
       "      <td>SPCT-127</td>\n",
       "      <td>-99.054728</td>\n",
       "      <td>19.789880</td>\n",
       "      <td>No</td>\n",
       "    </tr>\n",
       "    <tr>\n",
       "      <th>2</th>\n",
       "      <td>5791</td>\n",
       "      <td>Zinacantepec</td>\n",
       "      <td>Centro</td>\n",
       "      <td>Mexico</td>\n",
       "      <td>ZM de Toluca</td>\n",
       "      <td>Zinacantepec</td>\n",
       "      <td>SPCT-112</td>\n",
       "      <td>-99.699316</td>\n",
       "      <td>19.287137</td>\n",
       "      <td>No</td>\n",
       "    </tr>\n",
       "    <tr>\n",
       "      <th>3</th>\n",
       "      <td>1686</td>\n",
       "      <td>La Cima</td>\n",
       "      <td>Occidente</td>\n",
       "      <td>Jalisco</td>\n",
       "      <td>ZM de Guadalajara</td>\n",
       "      <td>Zapopan</td>\n",
       "      <td>SPCT-112</td>\n",
       "      <td>-103.411119</td>\n",
       "      <td>20.744996</td>\n",
       "      <td>No</td>\n",
       "    </tr>\n",
       "    <tr>\n",
       "      <th>4</th>\n",
       "      <td>3928</td>\n",
       "      <td>Guadalajara Parques</td>\n",
       "      <td>Occidente</td>\n",
       "      <td>Jalisco</td>\n",
       "      <td>ZM de Guadalajara</td>\n",
       "      <td>Zapopan</td>\n",
       "      <td>SPCT-112</td>\n",
       "      <td>-103.449000</td>\n",
       "      <td>20.659000</td>\n",
       "      <td>No</td>\n",
       "    </tr>\n",
       "  </tbody>\n",
       "</table>\n",
       "</div>"
      ],
      "text/plain": [
       "   id_tienda           nombre_tienda     region               estado  \\\n",
       "0       4156         Cola De Ballena   Noroeste  Baja California Sur   \n",
       "1       1724  Los Reyes Pza Zumpango     Centro               Mexico   \n",
       "2       5791            Zinacantepec     Centro               Mexico   \n",
       "3       1686                 La Cima  Occidente              Jalisco   \n",
       "4       3928     Guadalajara Parques  Occidente              Jalisco   \n",
       "\n",
       "                   ciudad     municipio     proto        long        lat  \\\n",
       "0                  La Paz        La Paz  SPCT-112 -110.343084  24.118732   \n",
       "1  ZM del Valle de México      Zumpango  SPCT-127  -99.054728  19.789880   \n",
       "2            ZM de Toluca  Zinacantepec  SPCT-112  -99.699316  19.287137   \n",
       "3       ZM de Guadalajara       Zapopan  SPCT-112 -103.411119  20.744996   \n",
       "4       ZM de Guadalajara       Zapopan  SPCT-112 -103.449000  20.659000   \n",
       "\n",
       "  con_serv  \n",
       "0       Sí  \n",
       "1       No  \n",
       "2       No  \n",
       "3       No  \n",
       "4       No  "
      ]
     },
     "execution_count": 78,
     "metadata": {},
     "output_type": "execute_result"
    }
   ],
   "source": [
    "csv_file2 = \"Stores.csv\"\n",
    "db2 = pd.read_csv(csv_file2)\n",
    "db2 = db2.loc[:, ['id_tienda','nombre_tienda', 'region', 'estado', 'ciudad', 'municipio', 'proto', 'long', 'lat', 'con_serv']]\n",
    "db2.head()\n"
   ]
  },
  {
   "cell_type": "code",
   "execution_count": 79,
   "metadata": {},
   "outputs": [],
   "source": [
    "rds_connection_string = \"postgres:postgres@localhost:5432/Project 2\"\n",
    "engine = create_engine(f'postgresql://{rds_connection_string}')"
   ]
  },
  {
   "cell_type": "code",
   "execution_count": 80,
   "metadata": {},
   "outputs": [
    {
     "data": {
      "text/plain": [
       "Index(['folio', 'id_tipo', 'estatus', 'id_tienda', 'nombre_tienda', 'region',\n",
       "       'estado', 'ciudad', 'fin_de_cap', 'fecha_entr', 'hora_entr', 'dia_sem',\n",
       "       'mes', 'venta_neta', 'cp', 'latitude', 'longitude', 'con_serv'],\n",
       "      dtype='object')"
      ]
     },
     "execution_count": 80,
     "metadata": {},
     "output_type": "execute_result"
    }
   ],
   "source": [
    "df1.columns"
   ]
  },
  {
   "cell_type": "code",
   "execution_count": 81,
   "metadata": {},
   "outputs": [
    {
     "data": {
      "text/plain": [
       "Index(['id_tienda', 'nombre_tienda', 'region', 'estado', 'ciudad', 'municipio',\n",
       "       'proto', 'long', 'lat', 'con_serv'],\n",
       "      dtype='object')"
      ]
     },
     "execution_count": 81,
     "metadata": {},
     "output_type": "execute_result"
    }
   ],
   "source": [
    "db2.columns"
   ]
  },
  {
   "cell_type": "code",
   "execution_count": 82,
   "metadata": {},
   "outputs": [
    {
     "data": {
      "text/plain": [
       "['stores', 'orders']"
      ]
     },
     "execution_count": 82,
     "metadata": {},
     "output_type": "execute_result"
    }
   ],
   "source": [
    "engine.table_names()"
   ]
  },
  {
   "cell_type": "code",
   "execution_count": 84,
   "metadata": {},
   "outputs": [],
   "source": [
    "df1.to_sql(name='orders', con=engine, if_exists='append', index=False)"
   ]
  },
  {
   "cell_type": "code",
   "execution_count": 85,
   "metadata": {},
   "outputs": [
    {
     "ename": "IntegrityError",
     "evalue": "(psycopg2.IntegrityError) llave duplicada viola restricción de unicidad «stores_pkey»\nDETAIL:  Ya existe la llave (id_tienda)=(4156).\n\n[SQL: INSERT INTO stores (id_tienda, nombre_tienda, region, estado, ciudad, municipio, proto, long, lat, con_serv) VALUES (%(id_tienda)s, %(nombre_tienda)s, %(region)s, %(estado)s, %(ciudad)s, %(municipio)s, %(proto)s, %(long)s, %(lat)s, %(con_serv)s)]\n[parameters: ({'id_tienda': 4156, 'nombre_tienda': 'Cola De Ballena', 'region': 'Noroeste', 'estado': 'Baja California Sur', 'ciudad': 'La Paz', 'municipio': 'La Paz', 'proto': 'SPCT-112', 'long': -110.343084, 'lat': 24.118732, 'con_serv': 'Sí'}, {'id_tienda': 1724, 'nombre_tienda': 'Los Reyes Pza Zumpango', 'region': 'Centro', 'estado': 'Mexico', 'ciudad': 'ZM del Valle de México', 'municipio': 'Zumpango', 'proto': 'SPCT-127', 'long': -99.054728, 'lat': 19.78988, 'con_serv': 'No'}, {'id_tienda': 5791, 'nombre_tienda': 'Zinacantepec', 'region': 'Centro', 'estado': 'Mexico', 'ciudad': 'ZM de Toluca', 'municipio': 'Zinacantepec', 'proto': 'SPCT-112', 'long': -99.69931600000001, 'lat': 19.287137, 'con_serv': 'No'}, {'id_tienda': 1686, 'nombre_tienda': 'La Cima', 'region': 'Occidente', 'estado': 'Jalisco', 'ciudad': 'ZM de Guadalajara', 'municipio': 'Zapopan', 'proto': 'SPCT-112', 'long': -103.411119, 'lat': 20.744996, 'con_serv': 'No'}, {'id_tienda': 3928, 'nombre_tienda': 'Guadalajara Parques', 'region': 'Occidente', 'estado': 'Jalisco', 'ciudad': 'ZM de Guadalajara', 'municipio': 'Zapopan', 'proto': 'SPCT-112', 'long': -103.449, 'lat': 20.659000000000002, 'con_serv': 'No'}, {'id_tienda': 3055, 'nombre_tienda': 'Batan', 'region': 'Occidente', 'estado': 'Jalisco', 'ciudad': 'ZM de Guadalajara', 'municipio': 'Zapopan', 'proto': 'SPCT-112', 'long': -103.345083, 'lat': 20.719685000000002, 'con_serv': 'No'}, {'id_tienda': 3956, 'nombre_tienda': 'Calandrias Tesistan', 'region': 'Occidente', 'estado': 'Jalisco', 'ciudad': 'ZM de Guadalajara', 'municipio': 'Zapopan', 'proto': 'SPCT-90', 'long': -103.455404, 'lat': 20.776892999999998, 'con_serv': 'No'}, {'id_tienda': 2325, 'nombre_tienda': 'Colinas Del Padre', 'region': 'Bajio', 'estado': 'Zacatecas', 'ciudad': 'ZM de Zacatecas-Guadalupe', 'municipio': 'Zacatecas', 'proto': 'SPCT-90', 'long': -102.590717, 'lat': 22.74878, 'con_serv': 'No'}  ... displaying 10 of 277 total bound parameter sets ...  {'id_tienda': 3857, 'nombre_tienda': 'Villa Coapa', 'region': 'Centro', 'estado': 'Distrito Federal', 'ciudad': 'ZM del Valle de México', 'municipio': 'Tlalpan', 'proto': 'SC-112', 'long': -99.123779, 'lat': 19.292962, 'con_serv': 'Sí'}, {'id_tienda': 383, 'nombre_tienda': 'Puerta Tlatelolco', 'region': 'Centro', 'estado': 'Distrito Federal', 'ciudad': 'ZM del Valle de México', 'municipio': 'Cuahutémoc', 'proto': 'SC-70', 'long': -99.142341, 'lat': 19.456436, 'con_serv': 'Sí'})]\n(Background on this error at: http://sqlalche.me/e/gkpj)",
     "output_type": "error",
     "traceback": [
      "\u001b[1;31m---------------------------------------------------------------------------\u001b[0m",
      "\u001b[1;31mIntegrityError\u001b[0m                            Traceback (most recent call last)",
      "\u001b[1;32m~\\Anaconda3\\envs\\PythonData\\lib\\site-packages\\sqlalchemy\\engine\\base.py\u001b[0m in \u001b[0;36m_execute_context\u001b[1;34m(self, dialect, constructor, statement, parameters, *args)\u001b[0m\n\u001b[0;32m   1223\u001b[0m                     self.dialect.do_executemany(\n\u001b[1;32m-> 1224\u001b[1;33m                         \u001b[0mcursor\u001b[0m\u001b[1;33m,\u001b[0m \u001b[0mstatement\u001b[0m\u001b[1;33m,\u001b[0m \u001b[0mparameters\u001b[0m\u001b[1;33m,\u001b[0m \u001b[0mcontext\u001b[0m\u001b[1;33m\u001b[0m\u001b[1;33m\u001b[0m\u001b[0m\n\u001b[0m\u001b[0;32m   1225\u001b[0m                     )\n",
      "\u001b[1;32m~\\Anaconda3\\envs\\PythonData\\lib\\site-packages\\sqlalchemy\\dialects\\postgresql\\psycopg2.py\u001b[0m in \u001b[0;36mdo_executemany\u001b[1;34m(self, cursor, statement, parameters, context)\u001b[0m\n\u001b[0;32m    724\u001b[0m         \u001b[1;32melse\u001b[0m\u001b[1;33m:\u001b[0m\u001b[1;33m\u001b[0m\u001b[1;33m\u001b[0m\u001b[0m\n\u001b[1;32m--> 725\u001b[1;33m             \u001b[0mcursor\u001b[0m\u001b[1;33m.\u001b[0m\u001b[0mexecutemany\u001b[0m\u001b[1;33m(\u001b[0m\u001b[0mstatement\u001b[0m\u001b[1;33m,\u001b[0m \u001b[0mparameters\u001b[0m\u001b[1;33m)\u001b[0m\u001b[1;33m\u001b[0m\u001b[1;33m\u001b[0m\u001b[0m\n\u001b[0m\u001b[0;32m    726\u001b[0m \u001b[1;33m\u001b[0m\u001b[0m\n",
      "\u001b[1;31mIntegrityError\u001b[0m: llave duplicada viola restricción de unicidad «stores_pkey»\nDETAIL:  Ya existe la llave (id_tienda)=(4156).\n",
      "\nThe above exception was the direct cause of the following exception:\n",
      "\u001b[1;31mIntegrityError\u001b[0m                            Traceback (most recent call last)",
      "\u001b[1;32m<ipython-input-85-76b7dd62d5ba>\u001b[0m in \u001b[0;36m<module>\u001b[1;34m\u001b[0m\n\u001b[1;32m----> 1\u001b[1;33m \u001b[0mdb2\u001b[0m\u001b[1;33m.\u001b[0m\u001b[0mto_sql\u001b[0m\u001b[1;33m(\u001b[0m\u001b[0mname\u001b[0m\u001b[1;33m=\u001b[0m\u001b[1;34m'stores'\u001b[0m\u001b[1;33m,\u001b[0m \u001b[0mcon\u001b[0m\u001b[1;33m=\u001b[0m\u001b[0mengine\u001b[0m\u001b[1;33m,\u001b[0m \u001b[0mif_exists\u001b[0m\u001b[1;33m=\u001b[0m\u001b[1;34m'append'\u001b[0m\u001b[1;33m,\u001b[0m \u001b[0mindex\u001b[0m\u001b[1;33m=\u001b[0m\u001b[1;32mFalse\u001b[0m\u001b[1;33m)\u001b[0m\u001b[1;33m\u001b[0m\u001b[1;33m\u001b[0m\u001b[0m\n\u001b[0m",
      "\u001b[1;32m~\\Anaconda3\\envs\\PythonData\\lib\\site-packages\\pandas\\core\\generic.py\u001b[0m in \u001b[0;36mto_sql\u001b[1;34m(self, name, con, schema, if_exists, index, index_label, chunksize, dtype, method)\u001b[0m\n\u001b[0;32m   2529\u001b[0m         sql.to_sql(self, name, con, schema=schema, if_exists=if_exists,\n\u001b[0;32m   2530\u001b[0m                    \u001b[0mindex\u001b[0m\u001b[1;33m=\u001b[0m\u001b[0mindex\u001b[0m\u001b[1;33m,\u001b[0m \u001b[0mindex_label\u001b[0m\u001b[1;33m=\u001b[0m\u001b[0mindex_label\u001b[0m\u001b[1;33m,\u001b[0m \u001b[0mchunksize\u001b[0m\u001b[1;33m=\u001b[0m\u001b[0mchunksize\u001b[0m\u001b[1;33m,\u001b[0m\u001b[1;33m\u001b[0m\u001b[1;33m\u001b[0m\u001b[0m\n\u001b[1;32m-> 2531\u001b[1;33m                    dtype=dtype, method=method)\n\u001b[0m\u001b[0;32m   2532\u001b[0m \u001b[1;33m\u001b[0m\u001b[0m\n\u001b[0;32m   2533\u001b[0m     def to_pickle(self, path, compression='infer',\n",
      "\u001b[1;32m~\\Anaconda3\\envs\\PythonData\\lib\\site-packages\\pandas\\io\\sql.py\u001b[0m in \u001b[0;36mto_sql\u001b[1;34m(frame, name, con, schema, if_exists, index, index_label, chunksize, dtype, method)\u001b[0m\n\u001b[0;32m    458\u001b[0m     pandas_sql.to_sql(frame, name, if_exists=if_exists, index=index,\n\u001b[0;32m    459\u001b[0m                       \u001b[0mindex_label\u001b[0m\u001b[1;33m=\u001b[0m\u001b[0mindex_label\u001b[0m\u001b[1;33m,\u001b[0m \u001b[0mschema\u001b[0m\u001b[1;33m=\u001b[0m\u001b[0mschema\u001b[0m\u001b[1;33m,\u001b[0m\u001b[1;33m\u001b[0m\u001b[1;33m\u001b[0m\u001b[0m\n\u001b[1;32m--> 460\u001b[1;33m                       chunksize=chunksize, dtype=dtype, method=method)\n\u001b[0m\u001b[0;32m    461\u001b[0m \u001b[1;33m\u001b[0m\u001b[0m\n\u001b[0;32m    462\u001b[0m \u001b[1;33m\u001b[0m\u001b[0m\n",
      "\u001b[1;32m~\\Anaconda3\\envs\\PythonData\\lib\\site-packages\\pandas\\io\\sql.py\u001b[0m in \u001b[0;36mto_sql\u001b[1;34m(self, frame, name, if_exists, index, index_label, schema, chunksize, dtype, method)\u001b[0m\n\u001b[0;32m   1172\u001b[0m                          schema=schema, dtype=dtype)\n\u001b[0;32m   1173\u001b[0m         \u001b[0mtable\u001b[0m\u001b[1;33m.\u001b[0m\u001b[0mcreate\u001b[0m\u001b[1;33m(\u001b[0m\u001b[1;33m)\u001b[0m\u001b[1;33m\u001b[0m\u001b[1;33m\u001b[0m\u001b[0m\n\u001b[1;32m-> 1174\u001b[1;33m         \u001b[0mtable\u001b[0m\u001b[1;33m.\u001b[0m\u001b[0minsert\u001b[0m\u001b[1;33m(\u001b[0m\u001b[0mchunksize\u001b[0m\u001b[1;33m,\u001b[0m \u001b[0mmethod\u001b[0m\u001b[1;33m=\u001b[0m\u001b[0mmethod\u001b[0m\u001b[1;33m)\u001b[0m\u001b[1;33m\u001b[0m\u001b[1;33m\u001b[0m\u001b[0m\n\u001b[0m\u001b[0;32m   1175\u001b[0m         \u001b[1;32mif\u001b[0m \u001b[1;33m(\u001b[0m\u001b[1;32mnot\u001b[0m \u001b[0mname\u001b[0m\u001b[1;33m.\u001b[0m\u001b[0misdigit\u001b[0m\u001b[1;33m(\u001b[0m\u001b[1;33m)\u001b[0m \u001b[1;32mand\u001b[0m \u001b[1;32mnot\u001b[0m \u001b[0mname\u001b[0m\u001b[1;33m.\u001b[0m\u001b[0mislower\u001b[0m\u001b[1;33m(\u001b[0m\u001b[1;33m)\u001b[0m\u001b[1;33m)\u001b[0m\u001b[1;33m:\u001b[0m\u001b[1;33m\u001b[0m\u001b[1;33m\u001b[0m\u001b[0m\n\u001b[0;32m   1176\u001b[0m             \u001b[1;31m# check for potentially case sensitivity issues (GH7815)\u001b[0m\u001b[1;33m\u001b[0m\u001b[1;33m\u001b[0m\u001b[1;33m\u001b[0m\u001b[0m\n",
      "\u001b[1;32m~\\Anaconda3\\envs\\PythonData\\lib\\site-packages\\pandas\\io\\sql.py\u001b[0m in \u001b[0;36minsert\u001b[1;34m(self, chunksize, method)\u001b[0m\n\u001b[0;32m    684\u001b[0m \u001b[1;33m\u001b[0m\u001b[0m\n\u001b[0;32m    685\u001b[0m                 \u001b[0mchunk_iter\u001b[0m \u001b[1;33m=\u001b[0m \u001b[0mzip\u001b[0m\u001b[1;33m(\u001b[0m\u001b[1;33m*\u001b[0m\u001b[1;33m[\u001b[0m\u001b[0marr\u001b[0m\u001b[1;33m[\u001b[0m\u001b[0mstart_i\u001b[0m\u001b[1;33m:\u001b[0m\u001b[0mend_i\u001b[0m\u001b[1;33m]\u001b[0m \u001b[1;32mfor\u001b[0m \u001b[0marr\u001b[0m \u001b[1;32min\u001b[0m \u001b[0mdata_list\u001b[0m\u001b[1;33m]\u001b[0m\u001b[1;33m)\u001b[0m\u001b[1;33m\u001b[0m\u001b[1;33m\u001b[0m\u001b[0m\n\u001b[1;32m--> 686\u001b[1;33m                 \u001b[0mexec_insert\u001b[0m\u001b[1;33m(\u001b[0m\u001b[0mconn\u001b[0m\u001b[1;33m,\u001b[0m \u001b[0mkeys\u001b[0m\u001b[1;33m,\u001b[0m \u001b[0mchunk_iter\u001b[0m\u001b[1;33m)\u001b[0m\u001b[1;33m\u001b[0m\u001b[1;33m\u001b[0m\u001b[0m\n\u001b[0m\u001b[0;32m    687\u001b[0m \u001b[1;33m\u001b[0m\u001b[0m\n\u001b[0;32m    688\u001b[0m     def _query_iterator(self, result, chunksize, columns, coerce_float=True,\n",
      "\u001b[1;32m~\\Anaconda3\\envs\\PythonData\\lib\\site-packages\\pandas\\io\\sql.py\u001b[0m in \u001b[0;36m_execute_insert\u001b[1;34m(self, conn, keys, data_iter)\u001b[0m\n\u001b[0;32m    597\u001b[0m         \"\"\"\n\u001b[0;32m    598\u001b[0m         \u001b[0mdata\u001b[0m \u001b[1;33m=\u001b[0m \u001b[1;33m[\u001b[0m\u001b[0mdict\u001b[0m\u001b[1;33m(\u001b[0m\u001b[0mzip\u001b[0m\u001b[1;33m(\u001b[0m\u001b[0mkeys\u001b[0m\u001b[1;33m,\u001b[0m \u001b[0mrow\u001b[0m\u001b[1;33m)\u001b[0m\u001b[1;33m)\u001b[0m \u001b[1;32mfor\u001b[0m \u001b[0mrow\u001b[0m \u001b[1;32min\u001b[0m \u001b[0mdata_iter\u001b[0m\u001b[1;33m]\u001b[0m\u001b[1;33m\u001b[0m\u001b[1;33m\u001b[0m\u001b[0m\n\u001b[1;32m--> 599\u001b[1;33m         \u001b[0mconn\u001b[0m\u001b[1;33m.\u001b[0m\u001b[0mexecute\u001b[0m\u001b[1;33m(\u001b[0m\u001b[0mself\u001b[0m\u001b[1;33m.\u001b[0m\u001b[0mtable\u001b[0m\u001b[1;33m.\u001b[0m\u001b[0minsert\u001b[0m\u001b[1;33m(\u001b[0m\u001b[1;33m)\u001b[0m\u001b[1;33m,\u001b[0m \u001b[0mdata\u001b[0m\u001b[1;33m)\u001b[0m\u001b[1;33m\u001b[0m\u001b[1;33m\u001b[0m\u001b[0m\n\u001b[0m\u001b[0;32m    600\u001b[0m \u001b[1;33m\u001b[0m\u001b[0m\n\u001b[0;32m    601\u001b[0m     \u001b[1;32mdef\u001b[0m \u001b[0m_execute_insert_multi\u001b[0m\u001b[1;33m(\u001b[0m\u001b[0mself\u001b[0m\u001b[1;33m,\u001b[0m \u001b[0mconn\u001b[0m\u001b[1;33m,\u001b[0m \u001b[0mkeys\u001b[0m\u001b[1;33m,\u001b[0m \u001b[0mdata_iter\u001b[0m\u001b[1;33m)\u001b[0m\u001b[1;33m:\u001b[0m\u001b[1;33m\u001b[0m\u001b[1;33m\u001b[0m\u001b[0m\n",
      "\u001b[1;32m~\\Anaconda3\\envs\\PythonData\\lib\\site-packages\\sqlalchemy\\engine\\base.py\u001b[0m in \u001b[0;36mexecute\u001b[1;34m(self, object_, *multiparams, **params)\u001b[0m\n\u001b[0;32m    986\u001b[0m             \u001b[1;32mraise\u001b[0m \u001b[0mexc\u001b[0m\u001b[1;33m.\u001b[0m\u001b[0mObjectNotExecutableError\u001b[0m\u001b[1;33m(\u001b[0m\u001b[0mobject_\u001b[0m\u001b[1;33m)\u001b[0m\u001b[1;33m\u001b[0m\u001b[1;33m\u001b[0m\u001b[0m\n\u001b[0;32m    987\u001b[0m         \u001b[1;32melse\u001b[0m\u001b[1;33m:\u001b[0m\u001b[1;33m\u001b[0m\u001b[1;33m\u001b[0m\u001b[0m\n\u001b[1;32m--> 988\u001b[1;33m             \u001b[1;32mreturn\u001b[0m \u001b[0mmeth\u001b[0m\u001b[1;33m(\u001b[0m\u001b[0mself\u001b[0m\u001b[1;33m,\u001b[0m \u001b[0mmultiparams\u001b[0m\u001b[1;33m,\u001b[0m \u001b[0mparams\u001b[0m\u001b[1;33m)\u001b[0m\u001b[1;33m\u001b[0m\u001b[1;33m\u001b[0m\u001b[0m\n\u001b[0m\u001b[0;32m    989\u001b[0m \u001b[1;33m\u001b[0m\u001b[0m\n\u001b[0;32m    990\u001b[0m     \u001b[1;32mdef\u001b[0m \u001b[0m_execute_function\u001b[0m\u001b[1;33m(\u001b[0m\u001b[0mself\u001b[0m\u001b[1;33m,\u001b[0m \u001b[0mfunc\u001b[0m\u001b[1;33m,\u001b[0m \u001b[0mmultiparams\u001b[0m\u001b[1;33m,\u001b[0m \u001b[0mparams\u001b[0m\u001b[1;33m)\u001b[0m\u001b[1;33m:\u001b[0m\u001b[1;33m\u001b[0m\u001b[1;33m\u001b[0m\u001b[0m\n",
      "\u001b[1;32m~\\Anaconda3\\envs\\PythonData\\lib\\site-packages\\sqlalchemy\\sql\\elements.py\u001b[0m in \u001b[0;36m_execute_on_connection\u001b[1;34m(self, connection, multiparams, params)\u001b[0m\n\u001b[0;32m    285\u001b[0m     \u001b[1;32mdef\u001b[0m \u001b[0m_execute_on_connection\u001b[0m\u001b[1;33m(\u001b[0m\u001b[0mself\u001b[0m\u001b[1;33m,\u001b[0m \u001b[0mconnection\u001b[0m\u001b[1;33m,\u001b[0m \u001b[0mmultiparams\u001b[0m\u001b[1;33m,\u001b[0m \u001b[0mparams\u001b[0m\u001b[1;33m)\u001b[0m\u001b[1;33m:\u001b[0m\u001b[1;33m\u001b[0m\u001b[1;33m\u001b[0m\u001b[0m\n\u001b[0;32m    286\u001b[0m         \u001b[1;32mif\u001b[0m \u001b[0mself\u001b[0m\u001b[1;33m.\u001b[0m\u001b[0msupports_execution\u001b[0m\u001b[1;33m:\u001b[0m\u001b[1;33m\u001b[0m\u001b[1;33m\u001b[0m\u001b[0m\n\u001b[1;32m--> 287\u001b[1;33m             \u001b[1;32mreturn\u001b[0m \u001b[0mconnection\u001b[0m\u001b[1;33m.\u001b[0m\u001b[0m_execute_clauseelement\u001b[0m\u001b[1;33m(\u001b[0m\u001b[0mself\u001b[0m\u001b[1;33m,\u001b[0m \u001b[0mmultiparams\u001b[0m\u001b[1;33m,\u001b[0m \u001b[0mparams\u001b[0m\u001b[1;33m)\u001b[0m\u001b[1;33m\u001b[0m\u001b[1;33m\u001b[0m\u001b[0m\n\u001b[0m\u001b[0;32m    288\u001b[0m         \u001b[1;32melse\u001b[0m\u001b[1;33m:\u001b[0m\u001b[1;33m\u001b[0m\u001b[1;33m\u001b[0m\u001b[0m\n\u001b[0;32m    289\u001b[0m             \u001b[1;32mraise\u001b[0m \u001b[0mexc\u001b[0m\u001b[1;33m.\u001b[0m\u001b[0mObjectNotExecutableError\u001b[0m\u001b[1;33m(\u001b[0m\u001b[0mself\u001b[0m\u001b[1;33m)\u001b[0m\u001b[1;33m\u001b[0m\u001b[1;33m\u001b[0m\u001b[0m\n",
      "\u001b[1;32m~\\Anaconda3\\envs\\PythonData\\lib\\site-packages\\sqlalchemy\\engine\\base.py\u001b[0m in \u001b[0;36m_execute_clauseelement\u001b[1;34m(self, elem, multiparams, params)\u001b[0m\n\u001b[0;32m   1105\u001b[0m             \u001b[0mdistilled_params\u001b[0m\u001b[1;33m,\u001b[0m\u001b[1;33m\u001b[0m\u001b[1;33m\u001b[0m\u001b[0m\n\u001b[0;32m   1106\u001b[0m             \u001b[0mcompiled_sql\u001b[0m\u001b[1;33m,\u001b[0m\u001b[1;33m\u001b[0m\u001b[1;33m\u001b[0m\u001b[0m\n\u001b[1;32m-> 1107\u001b[1;33m             \u001b[0mdistilled_params\u001b[0m\u001b[1;33m,\u001b[0m\u001b[1;33m\u001b[0m\u001b[1;33m\u001b[0m\u001b[0m\n\u001b[0m\u001b[0;32m   1108\u001b[0m         )\n\u001b[0;32m   1109\u001b[0m         \u001b[1;32mif\u001b[0m \u001b[0mself\u001b[0m\u001b[1;33m.\u001b[0m\u001b[0m_has_events\u001b[0m \u001b[1;32mor\u001b[0m \u001b[0mself\u001b[0m\u001b[1;33m.\u001b[0m\u001b[0mengine\u001b[0m\u001b[1;33m.\u001b[0m\u001b[0m_has_events\u001b[0m\u001b[1;33m:\u001b[0m\u001b[1;33m\u001b[0m\u001b[1;33m\u001b[0m\u001b[0m\n",
      "\u001b[1;32m~\\Anaconda3\\envs\\PythonData\\lib\\site-packages\\sqlalchemy\\engine\\base.py\u001b[0m in \u001b[0;36m_execute_context\u001b[1;34m(self, dialect, constructor, statement, parameters, *args)\u001b[0m\n\u001b[0;32m   1246\u001b[0m         \u001b[1;32mexcept\u001b[0m \u001b[0mBaseException\u001b[0m \u001b[1;32mas\u001b[0m \u001b[0me\u001b[0m\u001b[1;33m:\u001b[0m\u001b[1;33m\u001b[0m\u001b[1;33m\u001b[0m\u001b[0m\n\u001b[0;32m   1247\u001b[0m             self._handle_dbapi_exception(\n\u001b[1;32m-> 1248\u001b[1;33m                 \u001b[0me\u001b[0m\u001b[1;33m,\u001b[0m \u001b[0mstatement\u001b[0m\u001b[1;33m,\u001b[0m \u001b[0mparameters\u001b[0m\u001b[1;33m,\u001b[0m \u001b[0mcursor\u001b[0m\u001b[1;33m,\u001b[0m \u001b[0mcontext\u001b[0m\u001b[1;33m\u001b[0m\u001b[1;33m\u001b[0m\u001b[0m\n\u001b[0m\u001b[0;32m   1249\u001b[0m             )\n\u001b[0;32m   1250\u001b[0m \u001b[1;33m\u001b[0m\u001b[0m\n",
      "\u001b[1;32m~\\Anaconda3\\envs\\PythonData\\lib\\site-packages\\sqlalchemy\\engine\\base.py\u001b[0m in \u001b[0;36m_handle_dbapi_exception\u001b[1;34m(self, e, statement, parameters, cursor, context)\u001b[0m\n\u001b[0;32m   1464\u001b[0m                 \u001b[0mutil\u001b[0m\u001b[1;33m.\u001b[0m\u001b[0mraise_from_cause\u001b[0m\u001b[1;33m(\u001b[0m\u001b[0mnewraise\u001b[0m\u001b[1;33m,\u001b[0m \u001b[0mexc_info\u001b[0m\u001b[1;33m)\u001b[0m\u001b[1;33m\u001b[0m\u001b[1;33m\u001b[0m\u001b[0m\n\u001b[0;32m   1465\u001b[0m             \u001b[1;32melif\u001b[0m \u001b[0mshould_wrap\u001b[0m\u001b[1;33m:\u001b[0m\u001b[1;33m\u001b[0m\u001b[1;33m\u001b[0m\u001b[0m\n\u001b[1;32m-> 1466\u001b[1;33m                 \u001b[0mutil\u001b[0m\u001b[1;33m.\u001b[0m\u001b[0mraise_from_cause\u001b[0m\u001b[1;33m(\u001b[0m\u001b[0msqlalchemy_exception\u001b[0m\u001b[1;33m,\u001b[0m \u001b[0mexc_info\u001b[0m\u001b[1;33m)\u001b[0m\u001b[1;33m\u001b[0m\u001b[1;33m\u001b[0m\u001b[0m\n\u001b[0m\u001b[0;32m   1467\u001b[0m             \u001b[1;32melse\u001b[0m\u001b[1;33m:\u001b[0m\u001b[1;33m\u001b[0m\u001b[1;33m\u001b[0m\u001b[0m\n\u001b[0;32m   1468\u001b[0m                 \u001b[0mutil\u001b[0m\u001b[1;33m.\u001b[0m\u001b[0mreraise\u001b[0m\u001b[1;33m(\u001b[0m\u001b[1;33m*\u001b[0m\u001b[0mexc_info\u001b[0m\u001b[1;33m)\u001b[0m\u001b[1;33m\u001b[0m\u001b[1;33m\u001b[0m\u001b[0m\n",
      "\u001b[1;32m~\\Anaconda3\\envs\\PythonData\\lib\\site-packages\\sqlalchemy\\util\\compat.py\u001b[0m in \u001b[0;36mraise_from_cause\u001b[1;34m(exception, exc_info)\u001b[0m\n\u001b[0;32m    381\u001b[0m     \u001b[0mexc_type\u001b[0m\u001b[1;33m,\u001b[0m \u001b[0mexc_value\u001b[0m\u001b[1;33m,\u001b[0m \u001b[0mexc_tb\u001b[0m \u001b[1;33m=\u001b[0m \u001b[0mexc_info\u001b[0m\u001b[1;33m\u001b[0m\u001b[1;33m\u001b[0m\u001b[0m\n\u001b[0;32m    382\u001b[0m     \u001b[0mcause\u001b[0m \u001b[1;33m=\u001b[0m \u001b[0mexc_value\u001b[0m \u001b[1;32mif\u001b[0m \u001b[0mexc_value\u001b[0m \u001b[1;32mis\u001b[0m \u001b[1;32mnot\u001b[0m \u001b[0mexception\u001b[0m \u001b[1;32melse\u001b[0m \u001b[1;32mNone\u001b[0m\u001b[1;33m\u001b[0m\u001b[1;33m\u001b[0m\u001b[0m\n\u001b[1;32m--> 383\u001b[1;33m     \u001b[0mreraise\u001b[0m\u001b[1;33m(\u001b[0m\u001b[0mtype\u001b[0m\u001b[1;33m(\u001b[0m\u001b[0mexception\u001b[0m\u001b[1;33m)\u001b[0m\u001b[1;33m,\u001b[0m \u001b[0mexception\u001b[0m\u001b[1;33m,\u001b[0m \u001b[0mtb\u001b[0m\u001b[1;33m=\u001b[0m\u001b[0mexc_tb\u001b[0m\u001b[1;33m,\u001b[0m \u001b[0mcause\u001b[0m\u001b[1;33m=\u001b[0m\u001b[0mcause\u001b[0m\u001b[1;33m)\u001b[0m\u001b[1;33m\u001b[0m\u001b[1;33m\u001b[0m\u001b[0m\n\u001b[0m\u001b[0;32m    384\u001b[0m \u001b[1;33m\u001b[0m\u001b[0m\n\u001b[0;32m    385\u001b[0m \u001b[1;33m\u001b[0m\u001b[0m\n",
      "\u001b[1;32m~\\Anaconda3\\envs\\PythonData\\lib\\site-packages\\sqlalchemy\\util\\compat.py\u001b[0m in \u001b[0;36mreraise\u001b[1;34m(tp, value, tb, cause)\u001b[0m\n\u001b[0;32m    126\u001b[0m             \u001b[0mvalue\u001b[0m\u001b[1;33m.\u001b[0m\u001b[0m__cause__\u001b[0m \u001b[1;33m=\u001b[0m \u001b[0mcause\u001b[0m\u001b[1;33m\u001b[0m\u001b[1;33m\u001b[0m\u001b[0m\n\u001b[0;32m    127\u001b[0m         \u001b[1;32mif\u001b[0m \u001b[0mvalue\u001b[0m\u001b[1;33m.\u001b[0m\u001b[0m__traceback__\u001b[0m \u001b[1;32mis\u001b[0m \u001b[1;32mnot\u001b[0m \u001b[0mtb\u001b[0m\u001b[1;33m:\u001b[0m\u001b[1;33m\u001b[0m\u001b[1;33m\u001b[0m\u001b[0m\n\u001b[1;32m--> 128\u001b[1;33m             \u001b[1;32mraise\u001b[0m \u001b[0mvalue\u001b[0m\u001b[1;33m.\u001b[0m\u001b[0mwith_traceback\u001b[0m\u001b[1;33m(\u001b[0m\u001b[0mtb\u001b[0m\u001b[1;33m)\u001b[0m\u001b[1;33m\u001b[0m\u001b[1;33m\u001b[0m\u001b[0m\n\u001b[0m\u001b[0;32m    129\u001b[0m         \u001b[1;32mraise\u001b[0m \u001b[0mvalue\u001b[0m\u001b[1;33m\u001b[0m\u001b[1;33m\u001b[0m\u001b[0m\n\u001b[0;32m    130\u001b[0m \u001b[1;33m\u001b[0m\u001b[0m\n",
      "\u001b[1;32m~\\Anaconda3\\envs\\PythonData\\lib\\site-packages\\sqlalchemy\\engine\\base.py\u001b[0m in \u001b[0;36m_execute_context\u001b[1;34m(self, dialect, constructor, statement, parameters, *args)\u001b[0m\n\u001b[0;32m   1222\u001b[0m                 \u001b[1;32mif\u001b[0m \u001b[1;32mnot\u001b[0m \u001b[0mevt_handled\u001b[0m\u001b[1;33m:\u001b[0m\u001b[1;33m\u001b[0m\u001b[1;33m\u001b[0m\u001b[0m\n\u001b[0;32m   1223\u001b[0m                     self.dialect.do_executemany(\n\u001b[1;32m-> 1224\u001b[1;33m                         \u001b[0mcursor\u001b[0m\u001b[1;33m,\u001b[0m \u001b[0mstatement\u001b[0m\u001b[1;33m,\u001b[0m \u001b[0mparameters\u001b[0m\u001b[1;33m,\u001b[0m \u001b[0mcontext\u001b[0m\u001b[1;33m\u001b[0m\u001b[1;33m\u001b[0m\u001b[0m\n\u001b[0m\u001b[0;32m   1225\u001b[0m                     )\n\u001b[0;32m   1226\u001b[0m             \u001b[1;32melif\u001b[0m \u001b[1;32mnot\u001b[0m \u001b[0mparameters\u001b[0m \u001b[1;32mand\u001b[0m \u001b[0mcontext\u001b[0m\u001b[1;33m.\u001b[0m\u001b[0mno_parameters\u001b[0m\u001b[1;33m:\u001b[0m\u001b[1;33m\u001b[0m\u001b[1;33m\u001b[0m\u001b[0m\n",
      "\u001b[1;32m~\\Anaconda3\\envs\\PythonData\\lib\\site-packages\\sqlalchemy\\dialects\\postgresql\\psycopg2.py\u001b[0m in \u001b[0;36mdo_executemany\u001b[1;34m(self, cursor, statement, parameters, context)\u001b[0m\n\u001b[0;32m    723\u001b[0m             \u001b[0mextras\u001b[0m\u001b[1;33m.\u001b[0m\u001b[0mexecute_batch\u001b[0m\u001b[1;33m(\u001b[0m\u001b[0mcursor\u001b[0m\u001b[1;33m,\u001b[0m \u001b[0mstatement\u001b[0m\u001b[1;33m,\u001b[0m \u001b[0mparameters\u001b[0m\u001b[1;33m)\u001b[0m\u001b[1;33m\u001b[0m\u001b[1;33m\u001b[0m\u001b[0m\n\u001b[0;32m    724\u001b[0m         \u001b[1;32melse\u001b[0m\u001b[1;33m:\u001b[0m\u001b[1;33m\u001b[0m\u001b[1;33m\u001b[0m\u001b[0m\n\u001b[1;32m--> 725\u001b[1;33m             \u001b[0mcursor\u001b[0m\u001b[1;33m.\u001b[0m\u001b[0mexecutemany\u001b[0m\u001b[1;33m(\u001b[0m\u001b[0mstatement\u001b[0m\u001b[1;33m,\u001b[0m \u001b[0mparameters\u001b[0m\u001b[1;33m)\u001b[0m\u001b[1;33m\u001b[0m\u001b[1;33m\u001b[0m\u001b[0m\n\u001b[0m\u001b[0;32m    726\u001b[0m \u001b[1;33m\u001b[0m\u001b[0m\n\u001b[0;32m    727\u001b[0m     \u001b[1;33m@\u001b[0m\u001b[0mutil\u001b[0m\u001b[1;33m.\u001b[0m\u001b[0mmemoized_instancemethod\u001b[0m\u001b[1;33m\u001b[0m\u001b[1;33m\u001b[0m\u001b[0m\n",
      "\u001b[1;31mIntegrityError\u001b[0m: (psycopg2.IntegrityError) llave duplicada viola restricción de unicidad «stores_pkey»\nDETAIL:  Ya existe la llave (id_tienda)=(4156).\n\n[SQL: INSERT INTO stores (id_tienda, nombre_tienda, region, estado, ciudad, municipio, proto, long, lat, con_serv) VALUES (%(id_tienda)s, %(nombre_tienda)s, %(region)s, %(estado)s, %(ciudad)s, %(municipio)s, %(proto)s, %(long)s, %(lat)s, %(con_serv)s)]\n[parameters: ({'id_tienda': 4156, 'nombre_tienda': 'Cola De Ballena', 'region': 'Noroeste', 'estado': 'Baja California Sur', 'ciudad': 'La Paz', 'municipio': 'La Paz', 'proto': 'SPCT-112', 'long': -110.343084, 'lat': 24.118732, 'con_serv': 'Sí'}, {'id_tienda': 1724, 'nombre_tienda': 'Los Reyes Pza Zumpango', 'region': 'Centro', 'estado': 'Mexico', 'ciudad': 'ZM del Valle de México', 'municipio': 'Zumpango', 'proto': 'SPCT-127', 'long': -99.054728, 'lat': 19.78988, 'con_serv': 'No'}, {'id_tienda': 5791, 'nombre_tienda': 'Zinacantepec', 'region': 'Centro', 'estado': 'Mexico', 'ciudad': 'ZM de Toluca', 'municipio': 'Zinacantepec', 'proto': 'SPCT-112', 'long': -99.69931600000001, 'lat': 19.287137, 'con_serv': 'No'}, {'id_tienda': 1686, 'nombre_tienda': 'La Cima', 'region': 'Occidente', 'estado': 'Jalisco', 'ciudad': 'ZM de Guadalajara', 'municipio': 'Zapopan', 'proto': 'SPCT-112', 'long': -103.411119, 'lat': 20.744996, 'con_serv': 'No'}, {'id_tienda': 3928, 'nombre_tienda': 'Guadalajara Parques', 'region': 'Occidente', 'estado': 'Jalisco', 'ciudad': 'ZM de Guadalajara', 'municipio': 'Zapopan', 'proto': 'SPCT-112', 'long': -103.449, 'lat': 20.659000000000002, 'con_serv': 'No'}, {'id_tienda': 3055, 'nombre_tienda': 'Batan', 'region': 'Occidente', 'estado': 'Jalisco', 'ciudad': 'ZM de Guadalajara', 'municipio': 'Zapopan', 'proto': 'SPCT-112', 'long': -103.345083, 'lat': 20.719685000000002, 'con_serv': 'No'}, {'id_tienda': 3956, 'nombre_tienda': 'Calandrias Tesistan', 'region': 'Occidente', 'estado': 'Jalisco', 'ciudad': 'ZM de Guadalajara', 'municipio': 'Zapopan', 'proto': 'SPCT-90', 'long': -103.455404, 'lat': 20.776892999999998, 'con_serv': 'No'}, {'id_tienda': 2325, 'nombre_tienda': 'Colinas Del Padre', 'region': 'Bajio', 'estado': 'Zacatecas', 'ciudad': 'ZM de Zacatecas-Guadalupe', 'municipio': 'Zacatecas', 'proto': 'SPCT-90', 'long': -102.590717, 'lat': 22.74878, 'con_serv': 'No'}  ... displaying 10 of 277 total bound parameter sets ...  {'id_tienda': 3857, 'nombre_tienda': 'Villa Coapa', 'region': 'Centro', 'estado': 'Distrito Federal', 'ciudad': 'ZM del Valle de México', 'municipio': 'Tlalpan', 'proto': 'SC-112', 'long': -99.123779, 'lat': 19.292962, 'con_serv': 'Sí'}, {'id_tienda': 383, 'nombre_tienda': 'Puerta Tlatelolco', 'region': 'Centro', 'estado': 'Distrito Federal', 'ciudad': 'ZM del Valle de México', 'municipio': 'Cuahutémoc', 'proto': 'SC-70', 'long': -99.142341, 'lat': 19.456436, 'con_serv': 'Sí'})]\n(Background on this error at: http://sqlalche.me/e/gkpj)"
     ]
    }
   ],
   "source": [
    "db2.to_sql(name='stores', con=engine, if_exists='append', index=False)"
   ]
  },
  {
   "cell_type": "code",
   "execution_count": null,
   "metadata": {},
   "outputs": [],
   "source": []
  },
  {
   "cell_type": "code",
   "execution_count": null,
   "metadata": {},
   "outputs": [],
   "source": []
  }
 ],
 "metadata": {
  "kernelspec": {
   "display_name": "Python 3",
   "language": "python",
   "name": "python3"
  },
  "language_info": {
   "codemirror_mode": {
    "name": "ipython",
    "version": 3
   },
   "file_extension": ".py",
   "mimetype": "text/x-python",
   "name": "python",
   "nbconvert_exporter": "python",
   "pygments_lexer": "ipython3",
   "version": "3.6.8"
  }
 },
 "nbformat": 4,
 "nbformat_minor": 2
}
